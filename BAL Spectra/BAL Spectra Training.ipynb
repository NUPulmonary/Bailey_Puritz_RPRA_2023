{
 "cells": [
  {
   "cell_type": "markdown",
   "metadata": {},
   "source": [
    "# Spectra on BAL Samples"
   ]
  },
  {
   "cell_type": "code",
   "execution_count": 1,
   "metadata": {},
   "outputs": [],
   "source": [
    "import scipy\n",
    "import json\n",
    "import pickle\n",
    "import os\n",
    "import shutil\n",
    "import collections\n",
    "import pickle\n",
    "import numpy as np\n",
    "import scanpy as sc\n",
    "import pandas as pd\n",
    "import matplotlib as mpl\n",
    "import matplotlib.pyplot as plt\n",
    "from collections import OrderedDict\n",
    "from spectra import spectra as spc"
   ]
  },
  {
   "cell_type": "code",
   "execution_count": 2,
   "metadata": {},
   "outputs": [],
   "source": [
    "def get_factor_celltypes(adata, obs_key, cellscore_obsm_key = 'SPECTRA_cell_scores'):\n",
    "    '''\n",
    "    Assigns Spectra factors to cell types by analyzing the factor cell scores.\n",
    "    Cell type specific factors will have zero cell scores except in their respective cell type\n",
    "    \n",
    "    adata: AnnData , object containing the Spectra output\n",
    "    obs_key: str , column name in adata.obs containing the cell type annotations\n",
    "    cellscore_obsm_key: str , key for adata.obsm containing the Spectra cell scores\n",
    "    \n",
    "    returns: dict , dictionary of {factor index : 'cell type'}\n",
    "    '''\n",
    "    \n",
    "    # Get cellscores\n",
    "    import pandas as pd\n",
    "    cell_scores_df = pd.DataFrame(adata.obsm[cellscore_obsm_key])\n",
    "    cell_scores_df['celltype'] = list(adata.obs[obs_key])\n",
    "    \n",
    "    # Find global and cell type specific fators\n",
    "    global_factors_series = (cell_scores_df.groupby('celltype').mean() != 0).all()\n",
    "    global_factors = [factor for factor in global_factors_series.index if global_factors_series[factor]]\n",
    "    specific_cell_scores = (cell_scores_df.groupby('celltype').mean()).T[~global_factors_series].T\n",
    "    specific_factors = {}\n",
    "    \n",
    "    for i in set(cell_scores_df['celltype']):\n",
    "        specific_factors[i] = [factor for factor in specific_cell_scores.loc[i].index if\n",
    "                               specific_cell_scores.loc[i, factor]]\n",
    "    \n",
    "    # Inverse dict factor:celltype\n",
    "    factors_inv = {}\n",
    "    for i,v in specific_factors.items():\n",
    "        for factor in v:\n",
    "            factors_inv[factor] = i\n",
    "    \n",
    "    # Add global\n",
    "    for factor in global_factors:\n",
    "        factors_inv[factor] = 'global'\n",
    "            \n",
    "    return factors_inv"
   ]
  },
  {
   "cell_type": "code",
   "execution_count": 3,
   "metadata": {},
   "outputs": [],
   "source": [
    "def check_gene_set_dictionary(adata, \n",
    "                              annotations, \n",
    "                              obs_key = 'cell_type_annotations', \n",
    "                              global_key = 'global', \n",
    "                              return_dict = True):\n",
    "    '''\n",
    "    Filters annotations dictionary contains only genes contained in the adata. \n",
    "    Checks that annotations dictionary cell type keys and adata cell types are identical.\n",
    "    Checks that all gene sets in annotations dictionary contain >2 genes after filtering.\n",
    "    \n",
    "    adata: AnnData , data to use with Spectra\n",
    "    annotations: dict , gene set annotations dictionary to use with Spectra\n",
    "    obs_key: str , column name for cell type annotations in adata.obs\n",
    "    global_key: str , key for global gene sests in gene set annotation dictionary\n",
    "    return_dict: bool , return filtered gene set annotation dictionary\n",
    "    \n",
    "    returns: dict , filtered gene set annotation dictionary\n",
    "    \n",
    "    '''\n",
    "    # test if keys match\n",
    "    adata_labels = list(set(adata.obs[obs_key])) + [global_key]  # cell type labels in adata object\n",
    "    annotation_labels = list(annotations.keys())\n",
    "    matching_celltype_labels = list(set(adata_labels).intersection(annotation_labels))\n",
    "    dict_keys_ok = False\n",
    "    if set(annotation_labels) == set(adata_labels):\n",
    "        print('Cell type labels in gene set annotation dictionary and AnnData object are identical')\n",
    "        dict_keys_ok = True\n",
    "    \n",
    "    counter = 0\n",
    "    annotations_new = {}\n",
    "    for k, v in annotations.items():\n",
    "        annotations_new[k] = {}\n",
    "        for k2, v2 in v.items():\n",
    "            v2 = [x for x in v2 if x in adata.var_names]\n",
    "            annotations_new[k][k2] = v2\n",
    "            length = len(v2)\n",
    "            if length < 3:\n",
    "                print(f\"gene set {k2} for cell type {k} is of length {length}\")\n",
    "                counter += 1\n",
    "            \n",
    "    if counter > 0:\n",
    "        print(f\"{counter} gene set(s) are too small. Gene sets must contain at least 3 genes\")\n",
    "    elif counter == 0 and dict_keys_ok:\n",
    "        print('Your gene set annotation dictionary is correctly formatted.')\n",
    "    if return_dict:\n",
    "        return annotations_new"
   ]
  },
  {
   "cell_type": "markdown",
   "metadata": {},
   "source": [
    "### Read in data"
   ]
  },
  {
   "cell_type": "code",
   "execution_count": 4,
   "metadata": {},
   "outputs": [],
   "source": [
    "data_dir = \"/projects/b1038/Pulmonary/cpuritz/PASC/data\""
   ]
  },
  {
   "cell_type": "code",
   "execution_count": 5,
   "metadata": {},
   "outputs": [],
   "source": [
    "adata = sc.read_h5ad(f\"{data_dir}/01BAL/01integrated_BAL_v12/01integrated_BAL_v12.h5ad\")\n",
    "adata_raw = sc.read_h5ad(f\"{data_dir}/01BAL/raw/adata_raw.h5ad\")"
   ]
  },
  {
   "cell_type": "code",
   "execution_count": 6,
   "metadata": {},
   "outputs": [],
   "source": [
    "gene_sets = pd.read_excel(f\"{data_dir}/01BAL/spectra/spectra-gene-sets.xlsx\")"
   ]
  },
  {
   "cell_type": "code",
   "execution_count": 7,
   "metadata": {},
   "outputs": [],
   "source": [
    "# cytopus convention is to use hyphens, let's use hyphens\n",
    "gene_sets.cell_type = gene_sets.cell_type.replace({\n",
    "    \"B_memory\": \"B-memory\",\n",
    "    \"CD4_T\": \"CD4-T\",\n",
    "    \"CD8_T\": \"CD8-T\",\n",
    "    \"pDC\": \"p-DC\",\n",
    "})"
   ]
  },
  {
   "cell_type": "code",
   "execution_count": 8,
   "metadata": {},
   "outputs": [],
   "source": [
    "input_gene_sets = collections.defaultdict(dict)\n",
    "for _, r in gene_sets.iterrows():\n",
    "    input_gene_sets[r.cell_type][r.gene_set_name] = eval(r.gene_set)"
   ]
  },
  {
   "cell_type": "code",
   "execution_count": 9,
   "metadata": {},
   "outputs": [
    {
     "data": {
      "text/plain": [
       "dict_keys(['all-cells', 'B-memory', 'CD4-T', 'CD8-T', 'DC', 'MDC', 'p-DC', 'leukocyte', 'mast', 'TFH', 'Treg', 'Mac', 'CD8-T_KLRG1pos-effector', 'TSCM', 'endo-aerocyte', 'B-memory-switched', 'gran', 'Langerhans', 'TRM', 'lung-endo-venous', 'capillary', 'gdT', 'plasma', 'B-pb-mature', 'plasma-blast', 'B', 'TCM', 'T-naive', 'TEM', 'B-memory-DN', 'mono', 'ILC3-NCRpos', 'CD56dim-NK', 'cDC1', 'T', 'mo-DC', 'B-pb-t2', 'B-memory-IgM-MZ', 'cDC2', 'Lti', 'FDC', 'cDC3', 'CD8-T_KLRG1neg-effector', 'CD8-T-progenitor-exhausted', 'NK', 'ILC2', 'ILC1', 'CD56bright-NK', 'B-memory-non-switched', 'B-pb-t1', 'NK-adaptive', 'B-naive', 'endo-systemic-venous', 'GC-B', 'ILC3-NCRneg'])"
      ]
     },
     "execution_count": 9,
     "metadata": {},
     "output_type": "execute_result"
    }
   ],
   "source": [
    "input_gene_sets.keys()"
   ]
  },
  {
   "cell_type": "code",
   "execution_count": 10,
   "metadata": {},
   "outputs": [
    {
     "data": {
      "text/plain": [
       "array(['B cells', 'CD4 T cells-1', 'CD4 T cells-2', 'CD8 T cells-1',\n",
       "       'CD8 T cells-2', 'CD8 T cells-3', 'DC1', 'DC2', 'Epithelial cells',\n",
       "       'Mast cells', 'Migratory DC', 'MoAM-1', 'MoAM-2', 'MoAM-3',\n",
       "       'MoAM-4', 'Monocytes-1', 'Monocytes-2', 'Perivascular macrophages',\n",
       "       'Plasma cells', 'Proliferating T cells',\n",
       "       'Proliferating macrophages', 'SARS-CoV-2', 'TRAM-1', 'TRAM-2',\n",
       "       'TRAM-3', 'TRAM-4', 'TRAM-5', 'TRAM-6', 'TRAM-7', 'Tregs',\n",
       "       'gdT cells and NK cells', 'pDC'], dtype=object)"
      ]
     },
     "execution_count": 10,
     "metadata": {},
     "output_type": "execute_result"
    }
   ],
   "source": [
    "np.sort(adata.obs.cell_type.cat.categories)"
   ]
  },
  {
   "cell_type": "markdown",
   "metadata": {},
   "source": [
    "### Map our cell types to Spectra's coarser labels"
   ]
  },
  {
   "cell_type": "code",
   "execution_count": 11,
   "metadata": {},
   "outputs": [],
   "source": [
    "cell_type_map = {\n",
    "    \"TRAM-1\": \"Mac\",\n",
    "    \"TRAM-2\": \"Mac\",\n",
    "    \"TRAM-3\": \"Mac\",\n",
    "    \"TRAM-4\": \"Mac\",\n",
    "    \"TRAM-5\": \"Mac\",\n",
    "    \"TRAM-6\": \"Mac\",\n",
    "    \"TRAM-7\": \"Mac\",\n",
    "    \"Proliferating macrophages\": \"Mac\",\n",
    "    \n",
    "    \"MoAM-1\": \"MDC\",\n",
    "    \"MoAM-2\": \"MDC\",\n",
    "    \"MoAM-3\": \"MDC\",\n",
    "    \"MoAM-4\": \"MDC\",\n",
    "    \"Perivascular macrophages\": \"MDC\",\n",
    "    \n",
    "    \"Monocytes-1\": \"mono\",\n",
    "    \"Monocytes-2\": \"mono\",\n",
    "    \n",
    "    \"CD4 T cells-1\": \"CD4-T\",\n",
    "    \"CD4 T cells-2\": \"CD4-T\",\n",
    "    \n",
    "    \"CD8 T cells-1\": \"CD8-T\",\n",
    "    \"CD8 T cells-2\": \"CD8-T\",\n",
    "    \"CD8 T cells-3\": \"CD8-T\",\n",
    "    \n",
    "    \"Tregs\": \"Treg\",\n",
    "    \"gdT cells and NK cells\": \"NK\",\n",
    "    \"Proliferating T cells\": \"T\",\n",
    "    \n",
    "    \"DC1\": \"cDC1\",\n",
    "    \"DC2\": \"cDC2\",\n",
    "    \"Migratory DC\": \"cDC3\",\n",
    "    \"pDC\": \"p-DC\",\n",
    "    \n",
    "    \"Mast cells\": \"mast\",\n",
    "    \"B cells\": \"B\",\n",
    "    \"Plasma cells\": \"plasma\"\n",
    "}"
   ]
  },
  {
   "cell_type": "code",
   "execution_count": 12,
   "metadata": {},
   "outputs": [
    {
     "name": "stdout",
     "output_type": "stream",
     "text": [
      "['Epithelial cells', 'SARS-CoV-2']\n",
      "[]\n"
     ]
    }
   ],
   "source": [
    "print([x for x in adata.obs.cell_type.cat.categories if x not in cell_type_map.keys()])\n",
    "print([x for x in cell_type_map.keys() if x not in adata.obs.cell_type.cat.categories])"
   ]
  },
  {
   "cell_type": "markdown",
   "metadata": {},
   "source": [
    "### Filter gene sets"
   ]
  },
  {
   "cell_type": "code",
   "execution_count": 13,
   "metadata": {},
   "outputs": [],
   "source": [
    "adata.obs[\"cell_type_spectra\"] = adata.obs.cell_type.replace(cell_type_map)"
   ]
  },
  {
   "cell_type": "code",
   "execution_count": 14,
   "metadata": {},
   "outputs": [],
   "source": [
    "present_cell_types = adata.obs.cell_type_spectra.unique().tolist() + [\"all-cells\"]\n",
    "input_gene_sets = {k: v for k, v in input_gene_sets.items() if k in present_cell_types}"
   ]
  },
  {
   "cell_type": "code",
   "execution_count": 15,
   "metadata": {},
   "outputs": [],
   "source": [
    "present_sets = set(input_gene_sets.keys())\n",
    "for ct in set(present_cell_types) - present_sets:\n",
    "    input_gene_sets[ct] = {}"
   ]
  },
  {
   "cell_type": "code",
   "execution_count": 16,
   "metadata": {},
   "outputs": [],
   "source": [
    "input_gene_sets[\"global\"] = input_gene_sets.pop(\"all-cells\")"
   ]
  },
  {
   "cell_type": "code",
   "execution_count": 17,
   "metadata": {},
   "outputs": [
    {
     "name": "stdout",
     "output_type": "stream",
     "text": [
      "118 gene sets excluded due to < 3 genes, 68 gene sets kept\n"
     ]
    }
   ],
   "source": [
    "cnt = [0, 0]\n",
    "to_delete = []\n",
    "for ct, sets in input_gene_sets.items():\n",
    "    for name, gene_set in sets.items():\n",
    "        gene_set = list(set(gene_set).intersection(adata.var_names))\n",
    "        if len(gene_set) < 3:\n",
    "            cnt[0] += 1\n",
    "            to_delete.append((ct, name))\n",
    "        else:\n",
    "            cnt[1] += 1\n",
    "            sets[name] = gene_set\n",
    "for ct, name in to_delete:\n",
    "    del input_gene_sets[ct][name]\n",
    "print(f\"{cnt[0]} gene sets excluded due to < 3 genes, {cnt[1]} gene sets kept\")"
   ]
  },
  {
   "cell_type": "markdown",
   "metadata": {},
   "source": [
    "### Coarsen cell type labels\n",
    "We'll merge TRAMs, MoAMs, monocytes, and DC2 cells into one coarse cell type. Same for all T and NK cells."
   ]
  },
  {
   "cell_type": "code",
   "execution_count": 18,
   "metadata": {},
   "outputs": [],
   "source": [
    "to_merge = [\"Mac\", \"MDC\", \"mono\", \"cDC2\"]\n",
    "merge_into = to_merge[0]\n",
    "for ct in to_merge[1:]:\n",
    "    input_gene_sets[merge_into].update(input_gene_sets[ct])\n",
    "    del input_gene_sets[ct]\n",
    "adata.obs.loc[adata.obs.cell_type_spectra.isin(to_merge[1:]), \"cell_type_spectra\"] = merge_into"
   ]
  },
  {
   "cell_type": "code",
   "execution_count": 19,
   "metadata": {},
   "outputs": [],
   "source": [
    "to_merge = [\"T\", \"NK\", \"Treg\", \"CD4-T\", \"CD8-T\"]\n",
    "merge_into = to_merge[0]\n",
    "for ct in to_merge[1:]:\n",
    "    input_gene_sets[merge_into].update(input_gene_sets[ct])\n",
    "    del input_gene_sets[ct]\n",
    "adata.obs.loc[adata.obs.cell_type_spectra.isin(to_merge[1:]), \"cell_type_spectra\"] = merge_into"
   ]
  },
  {
   "cell_type": "code",
   "execution_count": 20,
   "metadata": {},
   "outputs": [
    {
     "data": {
      "text/plain": [
       "Index(['Mac', 'CD4-T', 'CD8-T', 'MDC', 'mono', 'cDC2', 'NK', 'Treg', 'T', 'B',\n",
       "       'cDC1', 'cDC3', 'p-DC', 'mast', 'plasma', 'Epithelial cells',\n",
       "       'SARS-CoV-2'],\n",
       "      dtype='object')"
      ]
     },
     "execution_count": 20,
     "metadata": {},
     "output_type": "execute_result"
    }
   ],
   "source": [
    "adata.obs.cell_type_spectra.cat.categories"
   ]
  },
  {
   "cell_type": "markdown",
   "metadata": {},
   "source": [
    "### Remove unused Spectra annotations"
   ]
  },
  {
   "cell_type": "code",
   "execution_count": 21,
   "metadata": {},
   "outputs": [],
   "source": [
    "adata.obs.cell_type_spectra = adata.obs.cell_type_spectra.cat.remove_unused_categories()"
   ]
  },
  {
   "cell_type": "code",
   "execution_count": 22,
   "metadata": {},
   "outputs": [
    {
     "data": {
      "text/plain": [
       "Index(['Mac', 'T', 'B', 'cDC1', 'cDC3', 'p-DC', 'mast', 'plasma',\n",
       "       'Epithelial cells', 'SARS-CoV-2'],\n",
       "      dtype='object')"
      ]
     },
     "execution_count": 22,
     "metadata": {},
     "output_type": "execute_result"
    }
   ],
   "source": [
    "adata.obs.cell_type_spectra.cat.categories"
   ]
  },
  {
   "cell_type": "code",
   "execution_count": 23,
   "metadata": {},
   "outputs": [
    {
     "name": "stdout",
     "output_type": "stream",
     "text": [
      "Cell type labels in gene set annotation dictionary and AnnData object are identical\n",
      "Your gene set annotation dictionary is correctly formatted.\n"
     ]
    }
   ],
   "source": [
    "check_gene_set_dictionary(adata, input_gene_sets, obs_key = \"cell_type_spectra\", return_dict = False)"
   ]
  },
  {
   "cell_type": "markdown",
   "metadata": {},
   "source": [
    "### Allow novel factors for each cell type of interest"
   ]
  },
  {
   "cell_type": "code",
   "execution_count": 24,
   "metadata": {},
   "outputs": [
    {
     "data": {
      "text/plain": [
       "{'p-DC': 3,\n",
       " 'mast': 2,\n",
       " 'Mac': 5,\n",
       " 'plasma': 2,\n",
       " 'B': 2,\n",
       " 'cDC1': 2,\n",
       " 'T': 19,\n",
       " 'cDC3': 2,\n",
       " 'Epithelial cells': 0,\n",
       " 'SARS-CoV-2': 0,\n",
       " 'global': 40}"
      ]
     },
     "execution_count": 24,
     "metadata": {},
     "output_type": "execute_result"
    }
   ],
   "source": [
    "n_novel = 1\n",
    "L = {ct: len(sets) + n_novel if ct not in [\"Epithelial cells\", \"SARS-CoV-2\"] else len(sets) for ct, sets in \n",
    "     input_gene_sets.items()}\n",
    "L"
   ]
  },
  {
   "cell_type": "markdown",
   "metadata": {},
   "source": [
    "### Train model"
   ]
  },
  {
   "cell_type": "code",
   "execution_count": 25,
   "metadata": {},
   "outputs": [],
   "source": [
    "with open(f\"{data_dir}/01BAL/spectra/input_gene_sets.pkl\", 'wb') as f:\n",
    "    pickle.dump(input_gene_sets, f)\n",
    "with open(f\"{data_dir}/01BAL/spectra/L.pkl\", 'wb') as f:\n",
    "    pickle.dump(L, f)\n",
    "adata.write_h5ad(f\"{data_dir}/01BAL/spectra/adata.h5ad\")"
   ]
  },
  {
   "cell_type": "code",
   "execution_count": 31,
   "metadata": {},
   "outputs": [],
   "source": [
    "### Model trained on a Quest GPU node. ###"
   ]
  },
  {
   "cell_type": "code",
   "execution_count": 5,
   "metadata": {},
   "outputs": [],
   "source": [
    "# Read in trained model\n",
    "adata = sc.read_h5ad(f\"{data_dir}/01BAL/spectra/adata.h5ad\")\n",
    "with open(f\"{data_dir}/01BAL/spectra/model.pkl\", 'rb') as f:\n",
    "    model = pickle.load(f)\n",
    "with open(f\"{data_dir}/01BAL/spectra/input_gene_sets.pkl\", 'rb') as f:\n",
    "    input_gene_sets = pickle.load(f)"
   ]
  },
  {
   "cell_type": "markdown",
   "metadata": {},
   "source": [
    "### Add Spectra scores to anndata"
   ]
  },
  {
   "cell_type": "code",
   "execution_count": 6,
   "metadata": {},
   "outputs": [],
   "source": [
    "factor_celltypes = get_factor_celltypes(adata, \"cell_type_spectra\")"
   ]
  },
  {
   "cell_type": "code",
   "execution_count": 7,
   "metadata": {},
   "outputs": [],
   "source": [
    "gene_weights = pd.DataFrame(\n",
    "    adata.uns['SPECTRA_factors'], \n",
    "    index = [f\"{factor_celltypes[x]}_{x}\" for x in range(adata.uns['SPECTRA_factors'].shape[0])],\n",
    "    columns = adata.var[adata.var['spectra_vocab']].index\n",
    ").T"
   ]
  },
  {
   "cell_type": "code",
   "execution_count": 8,
   "metadata": {},
   "outputs": [],
   "source": [
    "cell_scores = pd.DataFrame(\n",
    "    adata.obsm['SPECTRA_cell_scores'], \n",
    "    index = adata.obs_names,\n",
    "    columns = [f\"{factor_celltypes[x]}_{x}\" for x in range(adata.uns['SPECTRA_factors'].shape[0])]\n",
    ")"
   ]
  },
  {
   "cell_type": "code",
   "execution_count": 9,
   "metadata": {},
   "outputs": [],
   "source": [
    "adata.obs = pd.concat([adata.obs, cell_scores], axis = 1)"
   ]
  },
  {
   "cell_type": "code",
   "execution_count": null,
   "metadata": {},
   "outputs": [],
   "source": [
    "orig_factor_names = model.matching(adata.uns[\"SPECTRA_markers\"], input_gene_sets)\n",
    "orig_factor_names_map = {}\n",
    "for i, orig_name in enumerate(orig_factor_names):\n",
    "    curr_name = cell_scores.columns[i]\n",
    "    ct = factor_celltypes[i]\n",
    "    if orig_name == \"0\":\n",
    "        new_name = f\"F_{i}_{ct}\"\n",
    "    elif ct != \"global\":\n",
    "        new_name = f\"F_{i}_{ct}_{orig_name.replace(ct, '')}\"\n",
    "    else:\n",
    "        new_name = f\"F_{i}_{orig_name}\"\n",
    "    orig_factor_names_map[curr_name] = new_name\n",
    "\n",
    "with open(f\"{data_dir}/01BAL/spectra/orig_factor_names_map.pkl\", 'wb') as f:\n",
    "    pickle.dump(orig_factor_names_map, f)\n",
    "adata.obs.rename(columns = orig_factor_names_map, inplace = True)\n",
    "list(adata.obs.columns)"
   ]
  },
  {
   "cell_type": "markdown",
   "metadata": {},
   "source": [
    "## Save output"
   ]
  },
  {
   "cell_type": "code",
   "execution_count": null,
   "metadata": {},
   "outputs": [],
   "source": [
    "v = \"v12_spectra\"\n",
    "out_dir = f\"01NEP/01integrated_BAL_{v}\"\n",
    "out_name = f\"01integrated_BAL_{v}\""
   ]
  },
  {
   "cell_type": "code",
   "execution_count": null,
   "metadata": {},
   "outputs": [],
   "source": [
    "adata.write(f\"{data_dir}/{out_dir}/{out_name}.h5ad\")\n",
    "adata.obs.to_csv(f\"{data_dir}/{out_dir}/{out_name}-metadata.csv\")"
   ]
  }
 ],
 "metadata": {
  "kernelspec": {
   "display_name": "Python (pasc-env)",
   "language": "python",
   "name": "pasc-env"
  },
  "language_info": {
   "codemirror_mode": {
    "name": "ipython",
    "version": 3
   },
   "file_extension": ".py",
   "mimetype": "text/x-python",
   "name": "python",
   "nbconvert_exporter": "python",
   "pygments_lexer": "ipython3",
   "version": "3.9.16"
  }
 },
 "nbformat": 4,
 "nbformat_minor": 2
}
