{
 "cells": [
  {
   "cell_type": "markdown",
   "metadata": {},
   "source": [
    "# Spectra on Nasal Samples"
   ]
  },
  {
   "cell_type": "code",
   "execution_count": 1,
   "metadata": {},
   "outputs": [],
   "source": [
    "import scipy\n",
    "import json\n",
    "import pickle\n",
    "import os\n",
    "import shutil\n",
    "import collections\n",
    "import pickle\n",
    "import numpy as np\n",
    "import scanpy as sc\n",
    "import pandas as pd\n",
    "import matplotlib as mpl\n",
    "import matplotlib.pyplot as plt\n",
    "from collections import OrderedDict\n",
    "from spectra import spectra as spc"
   ]
  },
  {
   "cell_type": "code",
   "execution_count": 2,
   "metadata": {},
   "outputs": [],
   "source": [
    "def get_factor_celltypes(adata, obs_key, cellscore_obsm_key = 'SPECTRA_cell_scores'):\n",
    "    '''\n",
    "    Assigns Spectra factors to cell types by analyzing the factor cell scores.\n",
    "    Cell type specific factors will have zero cell scores except in their respective cell type\n",
    "    \n",
    "    adata: AnnData , object containing the Spectra output\n",
    "    obs_key: str , column name in adata.obs containing the cell type annotations\n",
    "    cellscore_obsm_key: str , key for adata.obsm containing the Spectra cell scores\n",
    "    \n",
    "    returns: dict , dictionary of {factor index : 'cell type'}\n",
    "    '''\n",
    "    \n",
    "    # Get cellscores\n",
    "    import pandas as pd\n",
    "    cell_scores_df = pd.DataFrame(adata.obsm[cellscore_obsm_key])\n",
    "    cell_scores_df['celltype'] = list(adata.obs[obs_key])\n",
    "    \n",
    "    # Find global and cell type specific fators\n",
    "    global_factors_series = (cell_scores_df.groupby('celltype').mean() != 0).all()\n",
    "    global_factors = [factor for factor in global_factors_series.index if global_factors_series[factor]]\n",
    "    specific_cell_scores = (cell_scores_df.groupby('celltype').mean()).T[~global_factors_series].T\n",
    "    specific_factors = {}\n",
    "    \n",
    "    for i in set(cell_scores_df['celltype']):\n",
    "        specific_factors[i] = [factor for factor in specific_cell_scores.loc[i].index if\n",
    "                               specific_cell_scores.loc[i, factor]]\n",
    "    \n",
    "    # Inverse dict factor:celltype\n",
    "    factors_inv = {}\n",
    "    for i,v in specific_factors.items():\n",
    "        for factor in v:\n",
    "            factors_inv[factor] = i\n",
    "    \n",
    "    # Add global\n",
    "    for factor in global_factors:\n",
    "        factors_inv[factor] = 'global'\n",
    "            \n",
    "    return factors_inv"
   ]
  },
  {
   "cell_type": "code",
   "execution_count": 3,
   "metadata": {},
   "outputs": [],
   "source": [
    "def check_gene_set_dictionary(adata, \n",
    "                              annotations, \n",
    "                              obs_key = 'cell_type_annotations', \n",
    "                              global_key = 'global', \n",
    "                              return_dict = True):\n",
    "    '''\n",
    "    Filters annotations dictionary contains only genes contained in the adata. \n",
    "    Checks that annotations dictionary cell type keys and adata cell types are identical.\n",
    "    Checks that all gene sets in annotations dictionary contain >2 genes after filtering.\n",
    "    \n",
    "    adata: AnnData , data to use with Spectra\n",
    "    annotations: dict , gene set annotations dictionary to use with Spectra\n",
    "    obs_key: str , column name for cell type annotations in adata.obs\n",
    "    global_key: str , key for global gene sests in gene set annotation dictionary\n",
    "    return_dict: bool , return filtered gene set annotation dictionary\n",
    "    \n",
    "    returns: dict , filtered gene set annotation dictionary\n",
    "    \n",
    "    '''\n",
    "    # test if keys match\n",
    "    adata_labels = list(set(adata.obs[obs_key])) + [global_key]  # cell type labels in adata object\n",
    "    annotation_labels = list(annotations.keys())\n",
    "    matching_celltype_labels = list(set(adata_labels).intersection(annotation_labels))\n",
    "    dict_keys_ok = False\n",
    "    if set(annotation_labels) == set(adata_labels):\n",
    "        print('Cell type labels in gene set annotation dictionary and AnnData object are identical')\n",
    "        dict_keys_ok = True\n",
    "    \n",
    "    counter = 0\n",
    "    annotations_new = {}\n",
    "    for k, v in annotations.items():\n",
    "        annotations_new[k] = {}\n",
    "        for k2, v2 in v.items():\n",
    "            v2 = [x for x in v2 if x in adata.var_names]\n",
    "            annotations_new[k][k2] = v2\n",
    "            length = len(v2)\n",
    "            if length < 3:\n",
    "                print(f\"gene set {k2} for cell type {k} is of length {length}\")\n",
    "                counter += 1\n",
    "            \n",
    "    if counter > 0:\n",
    "        print(f\"{counter} gene set(s) are too small. Gene sets must contain at least 3 genes\")\n",
    "    elif counter == 0 and dict_keys_ok:\n",
    "        print('Your gene set annotation dictionary is correctly formatted.')\n",
    "    if return_dict:\n",
    "        return annotations_new"
   ]
  },
  {
   "cell_type": "markdown",
   "metadata": {},
   "source": [
    "### Read in data"
   ]
  },
  {
   "cell_type": "code",
   "execution_count": 4,
   "metadata": {},
   "outputs": [],
   "source": [
    "data_dir = \"/projects/b1038/Pulmonary/cpuritz/PASC/data\""
   ]
  },
  {
   "cell_type": "code",
   "execution_count": 5,
   "metadata": {},
   "outputs": [],
   "source": [
    "adata = sc.read_h5ad(f\"{data_dir}/01NEP/01integrated_NEP_v2/01integrated_NEP_v2.h5ad\")"
   ]
  },
  {
   "cell_type": "code",
   "execution_count": 6,
   "metadata": {},
   "outputs": [],
   "source": [
    "gene_sets = pd.read_excel(f\"{data_dir}/01BAL/spectra/spectra-gene-sets.xlsx\")"
   ]
  },
  {
   "cell_type": "code",
   "execution_count": 7,
   "metadata": {},
   "outputs": [],
   "source": [
    "# cytopus convention is to use hyphens, let's use hyphens\n",
    "gene_sets.cell_type = gene_sets.cell_type.replace({\n",
    "    \"B_memory\": \"B-memory\",\n",
    "    \"CD4_T\": \"CD4-T\",\n",
    "    \"CD8_T\": \"CD8-T\",\n",
    "    \"pDC\": \"p-DC\",\n",
    "})"
   ]
  },
  {
   "cell_type": "code",
   "execution_count": 8,
   "metadata": {},
   "outputs": [],
   "source": [
    "input_gene_sets = collections.defaultdict(dict)\n",
    "for _, r in gene_sets.iterrows():\n",
    "    input_gene_sets[r.cell_type][r.gene_set_name] = eval(r.gene_set)"
   ]
  },
  {
   "cell_type": "code",
   "execution_count": 9,
   "metadata": {},
   "outputs": [
    {
     "data": {
      "text/plain": [
       "dict_keys(['all-cells', 'B-memory', 'CD4-T', 'CD8-T', 'DC', 'MDC', 'p-DC', 'leukocyte', 'mast', 'TFH', 'Treg', 'Mac', 'CD8-T_KLRG1pos-effector', 'TSCM', 'endo-aerocyte', 'B-memory-switched', 'gran', 'Langerhans', 'TRM', 'lung-endo-venous', 'capillary', 'gdT', 'plasma', 'B-pb-mature', 'plasma-blast', 'B', 'TCM', 'T-naive', 'TEM', 'B-memory-DN', 'mono', 'ILC3-NCRpos', 'CD56dim-NK', 'cDC1', 'T', 'mo-DC', 'B-pb-t2', 'B-memory-IgM-MZ', 'cDC2', 'Lti', 'FDC', 'cDC3', 'CD8-T_KLRG1neg-effector', 'CD8-T-progenitor-exhausted', 'NK', 'ILC2', 'ILC1', 'CD56bright-NK', 'B-memory-non-switched', 'B-pb-t1', 'NK-adaptive', 'B-naive', 'endo-systemic-venous', 'GC-B', 'ILC3-NCRneg'])"
      ]
     },
     "execution_count": 9,
     "metadata": {},
     "output_type": "execute_result"
    }
   ],
   "source": [
    "input_gene_sets.keys()"
   ]
  },
  {
   "cell_type": "code",
   "execution_count": 10,
   "metadata": {},
   "outputs": [
    {
     "data": {
      "text/plain": [
       "array(['B cells', 'Basal cells', 'CD4 T cells', 'CD8 T cells',\n",
       "       'Ciliated cells', 'DC2', 'Deuterosomal cells', 'Erythrocytes',\n",
       "       'Fibroblasts', 'Ionocytes', 'MMP9 basal cells', 'Macrophages',\n",
       "       'Mast cells', 'Monocytes', 'Mucous cells',\n",
       "       'Proliferating basal cells', 'Secretory cells',\n",
       "       'Secretory ciliated cells', 'Squamous cells', 'Suprabasal cells',\n",
       "       'gdT cells', 'pDC'], dtype=object)"
      ]
     },
     "execution_count": 10,
     "metadata": {},
     "output_type": "execute_result"
    }
   ],
   "source": [
    "np.sort(adata.obs.cell_type.cat.categories)"
   ]
  },
  {
   "cell_type": "markdown",
   "metadata": {},
   "source": [
    "### Map our cell types to Spectra's coarser labels"
   ]
  },
  {
   "cell_type": "code",
   "execution_count": 11,
   "metadata": {},
   "outputs": [],
   "source": [
    "cell_type_map = {'B cells': 'B',\n",
    "                 'CD4 T cells': 'T',\n",
    "                 'CD8 T cells': 'T',\n",
    "                 'DC2': 'Mac',\n",
    "                 'Deuterosomal cells': 'epi',\n",
    "                 'Fibroblasts': 'fibro',\n",
    "                 'Macrophages': 'Mac',\n",
    "                 'Mast cells': 'mast',\n",
    "                 'Monocytes': 'Mac',\n",
    "                 'gdT cells': 'T',\n",
    "                 'pDC': 'p-DC',\n",
    "                 'Basal cells': 'epi',\n",
    "                 'Ciliated cells': 'epi',\n",
    "                 'Proliferating basal cells': 'epi',\n",
    "                 'Secretory cells': 'epi',\n",
    "                 'Secretory ciliated cells': 'epi',\n",
    "                 'Squamous cells': 'epi',\n",
    "                 'Suprabasal cells': 'epi',\n",
    "                 'Mucous cells': 'epi',\n",
    "                 'Ionocytes': 'epi',\n",
    "                 'MMP9 basal cells': 'epi',\n",
    "                 'Erythrocytes': 'epi'}"
   ]
  },
  {
   "cell_type": "code",
   "execution_count": 12,
   "metadata": {},
   "outputs": [
    {
     "name": "stdout",
     "output_type": "stream",
     "text": [
      "[]\n",
      "[]\n"
     ]
    }
   ],
   "source": [
    "print([x for x in adata.obs.cell_type.cat.categories if x not in cell_type_map.keys()])\n",
    "print([x for x in cell_type_map.keys() if x not in adata.obs.cell_type.cat.categories])"
   ]
  },
  {
   "cell_type": "markdown",
   "metadata": {},
   "source": [
    "### Filter gene sets"
   ]
  },
  {
   "cell_type": "code",
   "execution_count": 13,
   "metadata": {},
   "outputs": [],
   "source": [
    "adata.obs[\"cell_type_spectra\"] = adata.obs.cell_type.replace(cell_type_map)"
   ]
  },
  {
   "cell_type": "code",
   "execution_count": 14,
   "metadata": {},
   "outputs": [],
   "source": [
    "present_cell_types = adata.obs.cell_type_spectra.unique().tolist() + [\"all-cells\"]\n",
    "input_gene_sets = {k: v for k, v in input_gene_sets.items() if k in present_cell_types}"
   ]
  },
  {
   "cell_type": "code",
   "execution_count": 15,
   "metadata": {},
   "outputs": [],
   "source": [
    "present_sets = set(input_gene_sets.keys())\n",
    "for ct in set(present_cell_types) - present_sets:\n",
    "    input_gene_sets[ct] = {}"
   ]
  },
  {
   "cell_type": "code",
   "execution_count": 16,
   "metadata": {},
   "outputs": [],
   "source": [
    "input_gene_sets[\"global\"] = input_gene_sets.pop(\"all-cells\")"
   ]
  },
  {
   "cell_type": "code",
   "execution_count": 17,
   "metadata": {},
   "outputs": [
    {
     "name": "stdout",
     "output_type": "stream",
     "text": [
      "122 gene sets excluded due to < 3 genes, 33 gene sets kept\n"
     ]
    }
   ],
   "source": [
    "cnt = [0, 0]\n",
    "to_delete = []\n",
    "for ct, sets in input_gene_sets.items():\n",
    "    for name, gene_set in sets.items():\n",
    "        gene_set = list(set(gene_set).intersection(adata.var_names))\n",
    "        if len(gene_set) < 3:\n",
    "            cnt[0] += 1\n",
    "            to_delete.append((ct, name))\n",
    "        else:\n",
    "            cnt[1] += 1\n",
    "            sets[name] = gene_set\n",
    "for ct, name in to_delete:\n",
    "    del input_gene_sets[ct][name]\n",
    "print(f\"{cnt[0]} gene sets excluded due to < 3 genes, {cnt[1]} gene sets kept\")"
   ]
  },
  {
   "cell_type": "code",
   "execution_count": 18,
   "metadata": {},
   "outputs": [
    {
     "data": {
      "text/plain": [
       "{'p-DC': {'M_p-DC_UP': ['LILRB4',\n",
       "   'FCER1G',\n",
       "   'ZEB2',\n",
       "   'IRF8',\n",
       "   'IL3RA',\n",
       "   'LILRA4',\n",
       "   'CLEC4C',\n",
       "   'IRF4',\n",
       "   'FCER1A']},\n",
       " 'mast': {'M_mast-cell_UP': ['IL1RL1',\n",
       "   'GATA2',\n",
       "   'TPSD1',\n",
       "   'MS4A2',\n",
       "   'HDC',\n",
       "   'TPSAB1',\n",
       "   'PTGDR',\n",
       "   'TPSB2']},\n",
       " 'Mac': {'M_macrophage_UP': ['MSR1', 'CD163', 'APOE', 'MRC1']},\n",
       " 'B': {'B_UP': ['CD79A', 'MS4A1', 'CD79B']},\n",
       " 'T': {'T_UP': ['CD3G', 'CD3E', 'CD3D']},\n",
       " 'fibro': {},\n",
       " 'epi': {},\n",
       " 'global': {'all_TNF-via-NFkB_signaling': ['CXCL8',\n",
       "   'CXCL11',\n",
       "   'CD69',\n",
       "   'CCL20',\n",
       "   'FOS',\n",
       "   'CD83',\n",
       "   'ICAM1',\n",
       "   'INHBA',\n",
       "   'CCL5',\n",
       "   'PLAUR',\n",
       "   'TNF',\n",
       "   'CCL2',\n",
       "   'EGR3',\n",
       "   'PDE4B',\n",
       "   'MSC',\n",
       "   'TNFRSF9',\n",
       "   'CD80',\n",
       "   'GADD45B',\n",
       "   'FOSB',\n",
       "   'LAMB3',\n",
       "   'SLC2A3',\n",
       "   'TNC',\n",
       "   'IL7R',\n",
       "   'CXCL1',\n",
       "   'G0S2',\n",
       "   'CSF2',\n",
       "   'PLEK',\n",
       "   'NR4A3',\n",
       "   'GPR183',\n",
       "   'CSF1',\n",
       "   'DUSP5',\n",
       "   'DUSP2',\n",
       "   'OLR1',\n",
       "   'AREG',\n",
       "   'BCL2A1',\n",
       "   'IFIT2',\n",
       "   'CXCL3',\n",
       "   'CXCL2',\n",
       "   'CXCL10',\n",
       "   'EGR2',\n",
       "   'CCL4',\n",
       "   'IL1B'],\n",
       "  'all_actin-cytoskeleton_regulation': ['RAC2',\n",
       "   'ITGA1',\n",
       "   'FN1',\n",
       "   'NCKAP1L',\n",
       "   'RNASE1',\n",
       "   'ITGAL',\n",
       "   'ITGAM',\n",
       "   'ITGA4',\n",
       "   'WAS',\n",
       "   'ITGB2',\n",
       "   'PDGFRB',\n",
       "   'PIK3R5'],\n",
       "  'all_apoptosis': ['PLAT',\n",
       "   'CD69',\n",
       "   'EREG',\n",
       "   'TNF',\n",
       "   'EGR3',\n",
       "   'HMOX1',\n",
       "   'TIMP1',\n",
       "   'GADD45B',\n",
       "   'CLU',\n",
       "   'BGN',\n",
       "   'FASLG',\n",
       "   'CCND2',\n",
       "   'CD2',\n",
       "   'EMP1',\n",
       "   'DCN',\n",
       "   'LUM',\n",
       "   'MMP2',\n",
       "   'PDGFRB',\n",
       "   'PRF1',\n",
       "   'IGFBP6',\n",
       "   'IL1B'],\n",
       "  'all_autophagy_regulation_positive': ['HSPB8', 'HMOX1', 'DCN', 'IFNG'],\n",
       "  'all_cytosolic-DNA-sensing_signaling': ['CCL4L2',\n",
       "   'CXCL10',\n",
       "   'CCL5',\n",
       "   'CCL4',\n",
       "   'IL1B'],\n",
       "  'all_eicosanoid_metabolism': ['SLCO2B1',\n",
       "   'TBXAS1',\n",
       "   'PTGS1',\n",
       "   'HPGDS',\n",
       "   'PTGDS',\n",
       "   'AKR1B1'],\n",
       "  'all_exocytosis': ['CFTR', 'PLEK', 'SYT1', 'P2RX1'],\n",
       "  'all_fatty-acid-metabolism': ['LGALS1',\n",
       "   'CD1D',\n",
       "   'G0S2',\n",
       "   'HPGD',\n",
       "   'ADH1C',\n",
       "   'IL4I1'],\n",
       "  'all_hypoxia-response': ['CXCR4',\n",
       "   'PLAUR',\n",
       "   'SLC2A3',\n",
       "   'CITED2',\n",
       "   'TGFBI',\n",
       "   'HMOX1',\n",
       "   'FOS',\n",
       "   'CCN2',\n",
       "   'BGN',\n",
       "   'COL5A1',\n",
       "   'IGFBP3',\n",
       "   'DCN',\n",
       "   'MT2A'],\n",
       "  'all_IL6-JAK-STAT3_signaling': ['A2M',\n",
       "   'CXCL11',\n",
       "   'IL3RA',\n",
       "   'IL12RB1',\n",
       "   'CCR1',\n",
       "   'IL2RG',\n",
       "   'TNF',\n",
       "   'HMOX1',\n",
       "   'TNFRSF1B',\n",
       "   'SOCS1',\n",
       "   'LTB',\n",
       "   'CXCL1',\n",
       "   'CSF2',\n",
       "   'CSF2RB',\n",
       "   'CXCL9',\n",
       "   'CSF1',\n",
       "   'PIK3R5',\n",
       "   'CXCL13',\n",
       "   'IL2RA',\n",
       "   'ITGA4',\n",
       "   'CXCL3',\n",
       "   'CXCL10',\n",
       "   'IL1B'],\n",
       "  'all_JAK-STAT_signaling': ['IL10RA',\n",
       "   'CISH',\n",
       "   'IL3RA',\n",
       "   'IFNG',\n",
       "   'IL12RB1',\n",
       "   'OSM',\n",
       "   'IL2',\n",
       "   'IL2RG',\n",
       "   'IL21',\n",
       "   'IL12RB2',\n",
       "   'SOCS1',\n",
       "   'STAT4',\n",
       "   'IL7R',\n",
       "   'IL2RB',\n",
       "   'CSF2',\n",
       "   'CSF2RB',\n",
       "   'CCND2',\n",
       "   'IL23R',\n",
       "   'IL13',\n",
       "   'PIK3R5',\n",
       "   'IL2RA'],\n",
       "  'all_macroautophagy': ['HSPB8', 'HMOX1', 'DCN'],\n",
       "  'all_macroautophagy_regulation_positive': ['HSPB8', 'HMOX1', 'DCN'],\n",
       "  'all_mTORC1_signaling': ['CXCR4',\n",
       "   'IFI30',\n",
       "   'SLC2A3',\n",
       "   'CORO1A',\n",
       "   'FGL2',\n",
       "   'CFP',\n",
       "   'ITGB2',\n",
       "   'SLA'],\n",
       "  'all_NOD-like-receptor_signaling': ['CXCL8',\n",
       "   'CCL8',\n",
       "   'TNF',\n",
       "   'CCL2',\n",
       "   'CXCL1',\n",
       "   'NLRP3',\n",
       "   'MAPK10',\n",
       "   'CXCL2',\n",
       "   'CCL5',\n",
       "   'PSTPIP1',\n",
       "   'IL1B'],\n",
       "  'all_osmotic-stress-response': ['RCSD1',\n",
       "   'ABCB1',\n",
       "   'TNF',\n",
       "   'AQP5',\n",
       "   'MAPK10',\n",
       "   'AQP9',\n",
       "   'AKR1B1'],\n",
       "  'all_p53-signaling': ['RRAD',\n",
       "   'IFI30',\n",
       "   'SFN',\n",
       "   'CCL2',\n",
       "   'HMOX1',\n",
       "   'CCL3',\n",
       "   'CXCL1',\n",
       "   'FOS',\n",
       "   'KRT17',\n",
       "   'SOCS1',\n",
       "   'CCND2',\n",
       "   'CXCL2',\n",
       "   'CCL4',\n",
       "   'CCL5',\n",
       "   'RGS16',\n",
       "   'TM4SF1'],\n",
       "  'all_PI3K-AKT-mTOR_signaling': ['CXCR4',\n",
       "   'SFN',\n",
       "   'IL2RG',\n",
       "   'LCK',\n",
       "   'RNASE1',\n",
       "   'FASLG',\n",
       "   'MAPK10',\n",
       "   'PRKCB',\n",
       "   'CAMK4',\n",
       "   'SLA'],\n",
       "  'all_protein-degradation-proteasome': ['CDC20B',\n",
       "   'TBX21',\n",
       "   'ASB2',\n",
       "   'DERL3',\n",
       "   'CLU',\n",
       "   'FBXL16',\n",
       "   'ECRG4'],\n",
       "  'all_pyroptosis': ['GZMA', 'GZMB', 'TREM2'],\n",
       "  'all_RIG-I-like-receptor_signaling': ['CXCL8',\n",
       "   'TNF',\n",
       "   'MAPK10',\n",
       "   'ISG15',\n",
       "   'CXCL10'],\n",
       "  'all_TLR_signaling': ['TLR9',\n",
       "   'CXCL8',\n",
       "   'CD86',\n",
       "   'TNF',\n",
       "   'CXCL11',\n",
       "   'RNASE1',\n",
       "   'CTSK',\n",
       "   'CCL3',\n",
       "   'FOS',\n",
       "   'SPP1',\n",
       "   'MAPK10',\n",
       "   'CXCL9',\n",
       "   'CXCL10',\n",
       "   'CCL5',\n",
       "   'CD80',\n",
       "   'PIK3R5',\n",
       "   'CCL4',\n",
       "   'IL1B'],\n",
       "  'all_type-II-ifn-response': ['HLA-DPA1',\n",
       "   'HLA-DQB1',\n",
       "   'HLA-DQA1',\n",
       "   'CXCL9',\n",
       "   'CXCL10',\n",
       "   'HLA-DPB1',\n",
       "   'HLA-DRA'],\n",
       "  'all_complement_production': ['CFB', 'C1QA', 'C3', 'C1QB'],\n",
       "  'all_iron-uptake-and-storage': ['CD163', 'SLC25A37', 'FTL'],\n",
       "  'all_MHC-II-presentation': ['HLA-DPA1',\n",
       "   'CD74',\n",
       "   'HLA-DQA2',\n",
       "   'HLA-DRB1',\n",
       "   'HLA-DQB1',\n",
       "   'SPI1',\n",
       "   'IRF8',\n",
       "   'HLA-DQA1',\n",
       "   'CD83',\n",
       "   'HLA-DQB2',\n",
       "   'HLA-DRB5',\n",
       "   'HLA-DPB1',\n",
       "   'HLA-DRA'],\n",
       "  'all_SASP': ['CXCL8',\n",
       "   'MMP12',\n",
       "   'CXCL11',\n",
       "   'PLAT',\n",
       "   'CCL3',\n",
       "   'CCL20',\n",
       "   'MMP9',\n",
       "   'MMP10',\n",
       "   'IFNG',\n",
       "   'IGFBP3',\n",
       "   'PLAUR',\n",
       "   'EREG',\n",
       "   'IGFBP2',\n",
       "   'CCL2',\n",
       "   'TIMP1',\n",
       "   'TNFRSF1B',\n",
       "   'IGFBP7',\n",
       "   'CCL8',\n",
       "   'CXCL1',\n",
       "   'IL13',\n",
       "   'MMP1',\n",
       "   'CXCL13',\n",
       "   'AREG',\n",
       "   'CCN2',\n",
       "   'CXCL3',\n",
       "   'CXCL2',\n",
       "   'IGFBP6',\n",
       "   'IL1B'],\n",
       "  'all_thrombolysis-factor_production': ['THBD', 'PLAT', 'SERPINE2']}}"
      ]
     },
     "execution_count": 18,
     "metadata": {},
     "output_type": "execute_result"
    }
   ],
   "source": [
    "input_gene_sets"
   ]
  },
  {
   "cell_type": "markdown",
   "metadata": {},
   "source": [
    "### Remove unused Spectra annotations"
   ]
  },
  {
   "cell_type": "code",
   "execution_count": 19,
   "metadata": {},
   "outputs": [],
   "source": [
    "adata.obs.cell_type_spectra = adata.obs.cell_type_spectra.cat.remove_unused_categories()"
   ]
  },
  {
   "cell_type": "code",
   "execution_count": 20,
   "metadata": {},
   "outputs": [
    {
     "data": {
      "text/plain": [
       "Index(['B', 'T', 'Mac', 'epi', 'fibro', 'mast', 'p-DC'], dtype='object')"
      ]
     },
     "execution_count": 20,
     "metadata": {},
     "output_type": "execute_result"
    }
   ],
   "source": [
    "adata.obs.cell_type_spectra.cat.categories"
   ]
  },
  {
   "cell_type": "code",
   "execution_count": 21,
   "metadata": {},
   "outputs": [
    {
     "name": "stdout",
     "output_type": "stream",
     "text": [
      "Cell type labels in gene set annotation dictionary and AnnData object are identical\n",
      "Your gene set annotation dictionary is correctly formatted.\n"
     ]
    }
   ],
   "source": [
    "check_gene_set_dictionary(adata, input_gene_sets, obs_key = \"cell_type_spectra\", return_dict = False)"
   ]
  },
  {
   "cell_type": "markdown",
   "metadata": {},
   "source": [
    "### Allow novel factors for each cell type of interest"
   ]
  },
  {
   "cell_type": "code",
   "execution_count": 22,
   "metadata": {},
   "outputs": [
    {
     "data": {
      "text/plain": [
       "{'p-DC': 2,\n",
       " 'mast': 2,\n",
       " 'Mac': 2,\n",
       " 'B': 2,\n",
       " 'T': 2,\n",
       " 'fibro': 1,\n",
       " 'epi': 1,\n",
       " 'global': 29}"
      ]
     },
     "execution_count": 22,
     "metadata": {},
     "output_type": "execute_result"
    }
   ],
   "source": [
    "n_novel = 1\n",
    "L = {ct: len(sets) + n_novel for ct, sets in input_gene_sets.items()}\n",
    "L"
   ]
  },
  {
   "cell_type": "markdown",
   "metadata": {},
   "source": [
    "### Train model"
   ]
  },
  {
   "cell_type": "code",
   "execution_count": null,
   "metadata": {},
   "outputs": [],
   "source": [
    "with open(f\"{data_dir}/01NEP/spectra/input_gene_sets.pkl\", 'wb') as f:\n",
    "    pickle.dump(input_gene_sets, f)\n",
    "with open(f\"{data_dir}/01NEP/spectra/L.pkl\", 'wb') as f:\n",
    "    pickle.dump(L, f)\n",
    "adata.write_h5ad(f\"{data_dir}/01NEP/spectra/adata.h5ad\")"
   ]
  },
  {
   "cell_type": "code",
   "execution_count": null,
   "metadata": {},
   "outputs": [],
   "source": [
    "### Model trained on a Quest GPU node. ###"
   ]
  },
  {
   "cell_type": "code",
   "execution_count": null,
   "metadata": {},
   "outputs": [],
   "source": [
    "# Read in trained model\n",
    "adata = sc.read_h5ad(f\"{data_dir}/01NEP/spectra/adata.h5ad\")\n",
    "with open(f\"{data_dir}/01NEP/spectra/model.pkl\", 'rb') as f:\n",
    "    model = pickle.load(f)\n",
    "with open(f\"{data_dir}/01NEP/spectra/input_gene_sets.pkl\", 'rb') as f:\n",
    "    input_gene_sets = pickle.load(f)"
   ]
  },
  {
   "cell_type": "markdown",
   "metadata": {},
   "source": [
    "### Add Spectra scores to anndata"
   ]
  },
  {
   "cell_type": "code",
   "execution_count": null,
   "metadata": {},
   "outputs": [],
   "source": [
    "factor_celltypes = get_factor_celltypes(adata, \"cell_type_spectra\")"
   ]
  },
  {
   "cell_type": "code",
   "execution_count": null,
   "metadata": {},
   "outputs": [],
   "source": [
    "gene_weights = pd.DataFrame(\n",
    "    adata.uns['SPECTRA_factors'], \n",
    "    index = [f\"{factor_celltypes[x]}_{x}\" for x in range(adata.uns['SPECTRA_factors'].shape[0])],\n",
    "    columns = adata.var[adata.var['spectra_vocab']].index\n",
    ").T"
   ]
  },
  {
   "cell_type": "code",
   "execution_count": null,
   "metadata": {},
   "outputs": [],
   "source": [
    "cell_scores = pd.DataFrame(\n",
    "    adata.obsm['SPECTRA_cell_scores'], \n",
    "    index = adata.obs_names,\n",
    "    columns = [f\"{factor_celltypes[x]}_{x}\" for x in range(adata.uns['SPECTRA_factors'].shape[0])]\n",
    ")"
   ]
  },
  {
   "cell_type": "code",
   "execution_count": null,
   "metadata": {},
   "outputs": [],
   "source": [
    "adata.obs = pd.concat([adata.obs, cell_scores], axis = 1)"
   ]
  },
  {
   "cell_type": "code",
   "execution_count": null,
   "metadata": {},
   "outputs": [],
   "source": [
    "orig_factor_names = model.matching(adata.uns[\"SPECTRA_markers\"], input_gene_sets)\n",
    "orig_factor_names_map = {}\n",
    "for i, orig_name in enumerate(orig_factor_names):\n",
    "    curr_name = cell_scores.columns[i]\n",
    "    ct = factor_celltypes[i]\n",
    "    if orig_name == \"0\":\n",
    "        new_name = f\"F_{i}_{ct}\"\n",
    "    elif ct != \"global\":\n",
    "        new_name = f\"F_{i}_{ct}_{orig_name.replace(ct, '')}\"\n",
    "    else:\n",
    "        new_name = f\"F_{i}_{orig_name}\"\n",
    "    orig_factor_names_map[curr_name] = new_name\n",
    "\n",
    "with open(f\"{data_dir}/01NEP/spectra/orig_factor_names_map.pkl\", 'wb') as f:\n",
    "    pickle.dump(orig_factor_names_map, f)\n",
    "adata.obs.rename(columns = orig_factor_names_map, inplace = True)\n",
    "list(adata.obs.columns)"
   ]
  },
  {
   "cell_type": "markdown",
   "metadata": {},
   "source": [
    "### Save output"
   ]
  },
  {
   "cell_type": "code",
   "execution_count": null,
   "metadata": {},
   "outputs": [],
   "source": [
    "out_version = \"v2_spectra\"\n",
    "out_dir = f\"01NEP/01integrated_NEP_{out_version}\"\n",
    "out_name = f\"01integrated_NEP_{out_version}\""
   ]
  },
  {
   "cell_type": "code",
   "execution_count": null,
   "metadata": {},
   "outputs": [],
   "source": [
    "adata.write(f\"{data_dir}/{out_dir}/{out_name}.h5ad\")\n",
    "adata.obs.to_csv(f\"{data_dir}/{out_dir}/{out_name}-metadata.csv\")"
   ]
  }
 ],
 "metadata": {
  "kernelspec": {
   "display_name": "Python (pasc-env)",
   "language": "python",
   "name": "pasc-env"
  },
  "language_info": {
   "codemirror_mode": {
    "name": "ipython",
    "version": 3
   },
   "file_extension": ".py",
   "mimetype": "text/x-python",
   "name": "python",
   "nbconvert_exporter": "python",
   "pygments_lexer": "ipython3",
   "version": "3.9.16"
  }
 },
 "nbformat": 4,
 "nbformat_minor": 2
}
