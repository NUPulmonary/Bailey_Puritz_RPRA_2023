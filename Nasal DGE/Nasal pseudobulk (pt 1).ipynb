{
 "cells": [
  {
   "cell_type": "markdown",
   "metadata": {},
   "source": [
    "# NEP Pseudobulk\n",
    "\n",
    "Compute pseudobulk counts for NEP samples."
   ]
  },
  {
   "cell_type": "code",
   "execution_count": 1,
   "metadata": {},
   "outputs": [],
   "source": [
    "import scanpy as sc\n",
    "import numpy as np\n",
    "import pandas as pd\n",
    "import anndata as ad\n",
    "import math\n",
    "from collections import Counter"
   ]
  },
  {
   "cell_type": "code",
   "execution_count": 2,
   "metadata": {},
   "outputs": [],
   "source": [
    "data_dir = \"/projects/b1038/Pulmonary/cpuritz/PASC/data/01NEP\"\n",
    "v = \"GEO_v2\"\n",
    "adata = sc.read_h5ad(f\"{data_dir}/01integrated_NEP_{v}/01integrated_NEP_{v}.h5ad\")\n",
    "adata_raw = sc.read_h5ad(f\"{data_dir}/raw/adata_raw_{v}.h5ad\")"
   ]
  },
  {
   "cell_type": "code",
   "execution_count": 3,
   "metadata": {},
   "outputs": [],
   "source": [
    "cell_types = adata.obs.cell_type.unique()\n",
    "study_ids = adata.obs.Study_ID.unique()\n",
    "gene_names = adata_raw.var.index.tolist()"
   ]
  },
  {
   "cell_type": "code",
   "execution_count": 4,
   "metadata": {},
   "outputs": [
    {
     "name": "stdout",
     "output_type": "stream",
     "text": [
      "Secretory ciliated cells: 7/11\n",
      "Secretory cells: 10/11\n",
      "Ciliated cells: 8/11\n",
      "Mucous cells: 5/11\n",
      "Ionocytes: 2/11\n",
      "Suprabasal cells: 11/11\n",
      "Basal cells: 9/11\n",
      "Deuterosomal cells: 1/11\n",
      "gdT cells: 1/11\n",
      "Proliferating basal cells: 10/11\n",
      "Macrophages: 5/11\n",
      "Squamous cells: 10/11\n",
      "CD8 T cells: 5/11\n",
      "CD4 T cells: 4/11\n",
      "pDC: 1/11\n",
      "Mast cells: 1/11\n",
      "Monocytes: 1/11\n",
      "DC2: 2/11\n",
      "B cells: 2/11\n",
      "MMP9 basal cells: 4/11\n",
      "Fibroblasts: 0/11\n"
     ]
    }
   ],
   "source": [
    "# Only keep samples that have at least 40 cells and contribute 1% of each cluster\n",
    "MIN_CELLS = 40\n",
    "CUTOFF = 0.01\n",
    "\n",
    "# Skip erythrocytes\n",
    "cell_types = [x for x in cell_types if x != 'Erythrocytes']\n",
    "\n",
    "cell_files = []\n",
    "for ct in cell_types:\n",
    "    obs_ct = adata.obs[adata.obs.cell_type == ct]\n",
    "    cutoff = math.floor(CUTOFF * obs_ct.shape[0])\n",
    "\n",
    "    df_counts = pd.DataFrame()\n",
    "    df_cells = pd.DataFrame()\n",
    "    df_meta = pd.DataFrame()\n",
    "    statuses = []\n",
    "    for sid in study_ids:\n",
    "        cells = obs_ct[obs_ct.Study_ID == sid].index\n",
    "        data = adata_raw[adata_raw.obs.index.isin(cells)]\n",
    "        \n",
    "        nc = data.n_obs\n",
    "        if nc > max(MIN_CELLS, cutoff):\n",
    "            # Number of cells of specified type in sample, status of sample\n",
    "            st = adata.obs.loc[adata.obs.Study_ID == sid, 'Status'][0]\n",
    "            df_meta = pd.concat([df_meta, pd.DataFrame([[nc, st]], columns = ['cells', 'status'], index = [sid])])\n",
    "\n",
    "            # Total counts for each gene\n",
    "            df_counts = pd.concat([df_counts,\n",
    "                                   pd.DataFrame(np.sum(data.X, axis = 0), columns = gene_names, index = [sid])])\n",
    "\n",
    "            # Number of cells with nonzero expression of each gene\n",
    "            df_cells = pd.concat([df_cells,\n",
    "                                  pd.DataFrame(np.sum(data.X > 0, axis = 0), columns = gene_names, index = [sid])])   \n",
    "\n",
    "    fname = ct.lower().replace(' - ', '_').replace(', ', '_').replace(' ', '_')\n",
    "    cell_files.append(fname)\n",
    "\n",
    "    df_meta.to_csv(f\"{data_dir}/DEG/counts/{fname}-meta.csv\")\n",
    "    df_counts.T.to_csv(f\"{data_dir}/DEG/counts/{fname}.csv\", sep = '\\t')\n",
    "    df_cells.T.to_csv(f\"{data_dir}/DEG/counts/{fname}-n_cells.csv\", sep = '\\t')\n",
    "\n",
    "    print(f\"{ct}: {df_counts.shape[0]}/{len(study_ids)}\")\n",
    "\n",
    "cell_df = pd.DataFrame(data = {'type' : cell_types, 'file' : cell_files})\n",
    "cell_df.to_csv(f\"{data_dir}/DEG/counts/cell_names.csv\", index = False)"
   ]
  }
 ],
 "metadata": {
  "kernelspec": {
   "display_name": "Python (pasc-env)",
   "language": "python",
   "name": "pasc-env"
  },
  "language_info": {
   "codemirror_mode": {
    "name": "ipython",
    "version": 3
   },
   "file_extension": ".py",
   "mimetype": "text/x-python",
   "name": "python",
   "nbconvert_exporter": "python",
   "pygments_lexer": "ipython3",
   "version": "3.9.16"
  }
 },
 "nbformat": 4,
 "nbformat_minor": 5
}
