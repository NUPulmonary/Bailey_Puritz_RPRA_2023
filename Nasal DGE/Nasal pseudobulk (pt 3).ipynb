{
 "cells": [
  {
   "cell_type": "markdown",
   "metadata": {},
   "source": [
    "# NEP Pseudobulk Part 3"
   ]
  },
  {
   "cell_type": "code",
   "execution_count": 1,
   "metadata": {},
   "outputs": [],
   "source": [
    "import collections\n",
    "import math\n",
    "import os\n",
    "import re\n",
    "import numpy as np\n",
    "import pandas as pd\n",
    "import scanpy as sc\n",
    "import matplotlib as mpl\n",
    "import matplotlib.pyplot as plt\n",
    "import seaborn as sns\n",
    "import adjustText as adjust_text"
   ]
  },
  {
   "cell_type": "markdown",
   "metadata": {},
   "source": [
    "## Read in data"
   ]
  },
  {
   "cell_type": "code",
   "execution_count": 2,
   "metadata": {},
   "outputs": [],
   "source": [
    "data_dir = \"/projects/b1038/Pulmonary/cpuritz/PASC/data\"\n",
    "\n",
    "v = \"GEO_v2\"\n",
    "adata = sc.read_h5ad(f\"{data_dir}/01NEP/01integrated_NEP_{v}/01integrated_NEP_{v}.h5ad\")\n",
    "adata_raw = sc.read_h5ad(f\"{data_dir}/01NEP/raw/adata_raw_{v}.h5ad\")\n",
    "\n",
    "cell_map = pd.read_csv(f\"{data_dir}/01NEP/DEG/counts/cell_names.csv\")"
   ]
  },
  {
   "cell_type": "markdown",
   "metadata": {},
   "source": [
    "## Plotting functions\n",
    "### Plot mean gene expression for top up and downregulated DEGs"
   ]
  },
  {
   "cell_type": "code",
   "execution_count": 3,
   "metadata": {},
   "outputs": [],
   "source": [
    "def plot_heatmap(degs, cell_name, cell_type, meta, out_dir, fname, ngenes = 25):\n",
    "    val_counts = degs.sign.value_counts(dropna = False)\n",
    "    num_top = min(ngenes, val_counts.get(\"Upregulated\", 0))\n",
    "    num_bot = min(ngenes, val_counts.get(\"Downregulated\", 0))\n",
    "    genes = degs.loc[degs.padj <= 0.05, :].index[list(range(num_top)) + list(range(-num_bot, 0))]\n",
    "    \n",
    "    if num_top + num_bot == 0:\n",
    "        return\n",
    "    \n",
    "    markers_expr = []\n",
    "    ad_slice = adata[adata.obs.cell_type == cell_name, :]\n",
    "    ad_slice = ad_slice[ad_slice.obs.Study_ID.isin(meta.index), :]\n",
    "    clusters = sorted(ad_slice.obs.Study_ID.unique())\n",
    "    gene_ix = ad_slice.raw.var_names.isin(genes)\n",
    "    for g in clusters:\n",
    "        mean_exp = ad_slice.raw.X[ad_slice.obs.Study_ID == g, :][:, gene_ix].mean(axis = 0).A.reshape(-1)\n",
    "        markers_expr.append(mean_exp)\n",
    "        \n",
    "    markers_expr = pd.DataFrame(markers_expr,\n",
    "                                index = clusters,\n",
    "                                columns = ad_slice.raw.var_names[ad_slice.raw.var_names.isin(genes)])\n",
    "    # Standard-scale expression\n",
    "    markers_expr = (markers_expr - markers_expr.min()) / (markers_expr.max() - markers_expr.min())\n",
    "\n",
    "    axes = sns.clustermap(markers_expr.loc[:, genes].T.to_numpy(),\n",
    "                          row_cluster = False,\n",
    "                          cmap = \"inferno\",\n",
    "                          dendrogram_ratio = 0.1,\n",
    "                          cbar_kws = {\"ticks\": []},\n",
    "                          linecolor = \"none\",\n",
    "                          snap = True,\n",
    "                          figsize = (14, 10))\n",
    "    \n",
    "    # Set x- and y-axis tick marks\n",
    "    ax = axes.ax_heatmap\n",
    "    ax.set_yticks(pd.Series(range(len(genes))) + 0.5)\n",
    "    ax.set_yticklabels(list(genes), fontstyle = \"italic\", fontsize = 12, rotation = 0)\n",
    "    ax.tick_params(left = True, labelleft = True, right = False, labelright = False)\n",
    "    ax.set_xticks(pd.Series(range(len(clusters))) + 0.5)\n",
    "    ax.set_xticklabels([clusters[x] for x in axes.dendrogram_col.reordered_ind],\n",
    "                       rotation = 45,\n",
    "                       ha = \"right\",\n",
    "                       fontsize = 12)\n",
    "    \n",
    "    # Adjust size of heatmap and size/position of colorbar\n",
    "    ax.figure.subplots_adjust(0.19, 0.12, 0.76, 0.9)\n",
    "    axes.cax.set_position((0.73, 0.91, 0.015, 0.055))\n",
    "    \n",
    "    # Move x-axis labels to the right\n",
    "    trans = mpl.transforms.Affine2D().translate(10, 0)\n",
    "    for t in ax.get_xticklabels():\n",
    "        t.set_transform(t.get_transform() + trans)\n",
    "\n",
    "    # Add a title, and label the colorbar\n",
    "    ax.figure.text(0.2, 0.96, cell_name, va = \"top\", fontsize = 18)\n",
    "    axes.cax.annotate(\"row min.\", (-1.5, -0.1), va = \"top\", annotation_clip = False, fontsize = 12)\n",
    "    axes.cax.annotate(\"row max.\", (-1.5, 1.1), va = \"bottom\", annotation_clip = False, fontsize = 12)\n",
    "\n",
    "    # Save heatmap\n",
    "    ax.figure.savefig(f\"{out_dir}/{fname}.pdf\")\n",
    "    plt.close(ax.figure)"
   ]
  },
  {
   "cell_type": "markdown",
   "metadata": {},
   "source": [
    "### Generate MA plots"
   ]
  },
  {
   "cell_type": "code",
   "execution_count": 4,
   "metadata": {},
   "outputs": [],
   "source": [
    "def plot_ma(degs, cell_name, cell_type, meta, out_dir, fname, ngenes = 25):\n",
    "    fig, ax = plt.subplots()\n",
    "    val_counts = degs.sign.value_counts(dropna = False).sort_index()\n",
    "    num_top = min(ngenes, val_counts.get(\"Upregulated\", 0))\n",
    "    num_bot = min(ngenes, val_counts.get(\"Downregulated\", 0))\n",
    "    genes = degs.loc[degs.padj <= 0.05, :].index[list(range(num_top)) + list(range(-num_bot, 0))]\n",
    "    \n",
    "    sign_cells = gene_cells.loc[degs.index[degs.sign != \"\"], :].sum(axis = 1)\n",
    "    min_cells = sign_cells.min()\n",
    "    max_cells = sign_cells.max()\n",
    "    colors = {\"\": \"gray\",\n",
    "              \"Upregulated\": lambda x: gene_cells.loc[x.index, :].sum(axis = 1),\n",
    "              \"Downregulated\": lambda x: gene_cells.loc[x.index, :].sum(axis = 1)}\n",
    "    cmap = {\"\": None,\n",
    "            \"Upregulated\": mpl.cm.winter_r,\n",
    "            \"Downregulated\": mpl.cm.autumn_r}\n",
    "    alphas = {\"\": 0.2,\n",
    "              \"Upregulated\": 1,\n",
    "              \"Downregulated\": 1}\n",
    "    labels = {\"\": \"\",\n",
    "              \"Upregulated\": \"Upregulated\",\n",
    "              \"Downregulated\": \"Downregulated\"}\n",
    "        \n",
    "    processed = []\n",
    "    for k, v in val_counts.items():\n",
    "        idx = degs.sign == k\n",
    "        kwargs = {}\n",
    "        label = labels[k]\n",
    "        if label:\n",
    "            label = f\"{label} ({idx.sum()})\"\n",
    "        kwargs[\"label\"] = label\n",
    "        c = colors[k]\n",
    "        if callable(c):\n",
    "            c = c(degs[idx])\n",
    "            kwargs[\"norm\"] = mpl.colors.LogNorm(vmin = min_cells, vmax = max_cells)\n",
    "        kwargs[\"c\"] = c\n",
    "        kwargs[\"alpha\"] = alphas[k]\n",
    "        if cmap.get(k):\n",
    "            kwargs[\"cmap\"] = cmap[k]\n",
    "        dots = ax.scatter(degs.baseMean[idx], \n",
    "                          degs.log2FoldChange[idx],\n",
    "                          s = 4,\n",
    "                          **kwargs)\n",
    "        if kwargs.get(\"norm\"):\n",
    "            fig.colorbar(dots, label = \"No of cells with gene\")\n",
    "            processed.append(k)\n",
    "        \n",
    "    ax.set_xscale(\"log\")\n",
    "    ax.figure.set_size_inches(8, 6)\n",
    "    ax.set_title(cell_name)\n",
    "    ax.set_ylabel(\"$log_2$(fold change)\", size = 16)\n",
    "    ax.set_xlabel(\"Mean expression\", size = 16)\n",
    "    if len(processed) > 0:\n",
    "        l = ax.legend(fontsize = 12, markerscale = 4)\n",
    "        for lh in l.legend_handles: \n",
    "            lh.set_alpha(1)\n",
    "    fig.axes[0].set_position((0.1, 0.1, 0.72, 0.85))\n",
    "    for i, d in enumerate(processed):\n",
    "        if d == \"Downregulated\":\n",
    "            fig.axes[i + 1].set_position((0.84, 0.52, 0.08, 0.375))\n",
    "        else:\n",
    "            fig.axes[i + 1].set_position((0.84, 0.12, 0.08, 0.375))\n",
    "    \n",
    "    texts = []\n",
    "    for r in degs.loc[genes, :].itertuples(name = None):\n",
    "        texts.append(ax.text(r[1], r[2], r[0], size = 9))\n",
    "    if len(texts) > 0:\n",
    "        adjust_text.adjust_text(texts, ax = ax, autoalign = False,\n",
    "                                expand_points = (1.5, 1.5), force_points = (1, 1),\n",
    "                                arrowprops = dict(arrowstyle = '-', color = 'black', shrinkA = 4, shrinkB = 4))\n",
    "\n",
    "    # Save plot\n",
    "    fig.savefig(f\"{out_dir}/{fname}.pdf\")\n",
    "    plt.close(fig)"
   ]
  },
  {
   "cell_type": "markdown",
   "metadata": {},
   "source": [
    "## Process each cell type"
   ]
  },
  {
   "cell_type": "code",
   "execution_count": 5,
   "metadata": {
    "scrolled": true
   },
   "outputs": [
    {
     "name": "stdout",
     "output_type": "stream",
     "text": [
      "Processing Secretory ciliated cells\n",
      "Processing Secretory cells\n",
      "Processing Ciliated cells\n",
      "Processing Mucous cells\n",
      "Processing Ionocytes\n",
      "Processing Suprabasal cells\n",
      "Processing Basal cells\n",
      "Processing Deuterosomal cells\n",
      "Processing gdT cells\n",
      "Processing Proliferating basal cells\n",
      "Processing Macrophages\n",
      "Processing Squamous cells\n",
      "Processing CD8 T cells\n",
      "Processing CD4 T cells\n",
      "Processing pDC\n",
      "Processing Mast cells\n",
      "Processing Monocytes\n",
      "Processing DC2\n",
      "Processing B cells\n",
      "Processing MMP9 basal cells\n",
      "Processing Fibroblasts\n"
     ]
    }
   ],
   "source": [
    "CUTOFF = 0.02\n",
    "counts_dir = f\"{data_dir}/01NEP/DEG/counts\"\n",
    "\n",
    "deg_counts = []\n",
    "for cell_type in cell_map.file:\n",
    "    cell_name = cell_map.type[cell_map.file == cell_type].tolist()[0]\n",
    "    print(f\"Processing {cell_name}\")\n",
    "    \n",
    "    out_dir = f\"{data_dir}/01NEP/DEG/output/{cell_type}\"\n",
    "    if not os.path.exists(out_dir):\n",
    "        deg_counts.append([cell_name, 0, 0])\n",
    "        continue\n",
    "    \n",
    "    degs = pd.read_csv(f\"{out_dir}/degs.csv\", index_col = 0)\n",
    "    degs.loc[degs.sign.isna(), \"sign\"] = \"\"\n",
    "    meta = pd.read_csv(f\"{counts_dir}/{cell_type}-meta.csv\", index_col = 0)\n",
    "    gene_cells = pd.read_csv(f\"{counts_dir}/{cell_type}-n_cells.csv\", sep = '\\t', index_col = 0)\n",
    "\n",
    "    cutoff = math.floor((adata.obs.cell_type == cell_name).sum() * CUTOFF)\n",
    "    gene_cells = gene_cells.loc[gene_cells.sum(axis = 1) > 0, :]\n",
    "    genes_to_keep = gene_cells.index[(gene_cells > cutoff).sum(axis = 1) > 3]\n",
    "    filtered_degs = degs.loc[degs.index.isin(genes_to_keep), :]\n",
    "    filtered_degs = filtered_degs.loc[~filtered_degs.index.str.match(\"^(RP\\d+-|RPL|RPS).+\"), :]\n",
    "    filtered_degs.to_csv(f\"{out_dir}/filtered_degs.csv\", index = True)\n",
    "\n",
    "    plot_heatmap(degs, cell_name, cell_type, meta, out_dir, \"heatmap\")\n",
    "    plot_heatmap(filtered_degs, cell_name, cell_type, meta, out_dir, \"heatmap-filt\")\n",
    "    plot_ma(degs, cell_name, cell_type, meta, out_dir, \"ma\")\n",
    "    plot_ma(filtered_degs, cell_name, cell_type, meta, out_dir, \"ma-filt\")\n",
    "\n",
    "    deg_counts.append([cell_name, np.sum(degs.sign != \"\"), np.sum(filtered_degs.sign != \"\")])"
   ]
  },
  {
   "cell_type": "markdown",
   "metadata": {},
   "source": [
    "## Write output"
   ]
  },
  {
   "cell_type": "code",
   "execution_count": 6,
   "metadata": {},
   "outputs": [],
   "source": [
    "out_dir = f\"{data_dir}/01NEP/DEG/output\"\n",
    "\n",
    "deg_counts_df = pd.DataFrame(deg_counts, columns = [\"name\", \"n_degs\", \"n_degs_filt\"])\n",
    "deg_counts_df.to_csv(f\"{out_dir}/deg_counts.csv\", index = False, header = True)"
   ]
  },
  {
   "cell_type": "markdown",
   "metadata": {},
   "source": [
    "## Barplots of DEG counts"
   ]
  },
  {
   "cell_type": "code",
   "execution_count": 7,
   "metadata": {},
   "outputs": [
    {
     "name": "stderr",
     "output_type": "stream",
     "text": [
      "/tmp/ipykernel_34548/1064682455.py:6: FutureWarning: In a future version of pandas all arguments of DataFrame.drop except for the argument 'labels' will be keyword-only.\n",
      "  deg_counts_df = deg_counts_df.sort_values('sort').drop('sort', 1)\n"
     ]
    }
   ],
   "source": [
    "cell_order = ['Basal cells', 'MMP9 basal cells', 'Proliferating basal cells', 'Suprabasal cells',\n",
    "              'Secretory cells', 'Squamous cells', 'Mucous cells', 'Secretory ciliated cells',\n",
    "              'Deuterosomal cells', 'Ciliated cells', 'Ionocytes', 'Fibroblasts', 'Mast cells', 'Monocytes',\n",
    "              'Macrophages', 'DC2', 'pDC', 'B cells', 'CD4 T cells', 'CD8 T cells', 'gdT cells']\n",
    "deg_counts_df['sort'] = deg_counts_df['name'].map({value: i for i, value in enumerate(cell_order)})\n",
    "deg_counts_df = deg_counts_df.sort_values('sort').drop('sort', 1)"
   ]
  },
  {
   "cell_type": "code",
   "execution_count": 8,
   "metadata": {},
   "outputs": [
    {
     "name": "stderr",
     "output_type": "stream",
     "text": [
      "/tmp/ipykernel_34548/3416399990.py:9: UserWarning: FixedFormatter should only be used together with FixedLocator\n",
      "  ax.set_xticklabels(ax.get_xticklabels(), fontsize = 9)\n"
     ]
    }
   ],
   "source": [
    "df = deg_counts_df.melt(id_vars = \"name\")\n",
    "ax = sns.barplot(data = df, hue = \"variable\", y = \"name\", x = \"value\", log = False,\n",
    "                 hue_order = [\"n_degs\", \"n_degs_filt\"], orient = 'h')\n",
    "ax.figure.set_size_inches((5, 6))\n",
    "ax.set_yticklabels(df.name[df.variable == \"n_degs\"],\n",
    "                   rotation = 0,\n",
    "                   ha = \"right\",\n",
    "                   fontsize = 9)\n",
    "ax.set_xticklabels(ax.get_xticklabels(), fontsize = 9)\n",
    "ax.set_xlabel(\"Number of genes\", fontsize = 9)\n",
    "ax.set_ylabel(\"\")\n",
    "ax.legend(fontsize = 9)\n",
    "ax.legend_.get_texts()[0].set_text(\"Unfiltered DEGs\")\n",
    "ax.legend_.get_texts()[1].set_text(\"Filtered DEGs\")\n",
    "ax.legend_.set_title(\"\")\n",
    "ax.figure.tight_layout()\n",
    "ax.figure.savefig(f\"{data_dir}/figures/fig_s6/fig_s6_b.pdf\", transparent = True)\n",
    "plt.close(ax.figure)"
   ]
  }
 ],
 "metadata": {
  "kernelspec": {
   "display_name": "Python (pasc-env)",
   "language": "python",
   "name": "pasc-env"
  },
  "language_info": {
   "codemirror_mode": {
    "name": "ipython",
    "version": 3
   },
   "file_extension": ".py",
   "mimetype": "text/x-python",
   "name": "python",
   "nbconvert_exporter": "python",
   "pygments_lexer": "ipython3",
   "version": "3.9.16"
  }
 },
 "nbformat": 4,
 "nbformat_minor": 5
}
