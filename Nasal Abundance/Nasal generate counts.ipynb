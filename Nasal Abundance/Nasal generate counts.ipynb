{
 "cells": [
  {
   "cell_type": "code",
   "execution_count": 1,
   "metadata": {},
   "outputs": [],
   "source": [
    "import scanpy as sc\n",
    "import pandas as pd\n",
    "import numpy as np"
   ]
  },
  {
   "cell_type": "code",
   "execution_count": 2,
   "metadata": {},
   "outputs": [],
   "source": [
    "data_dir = \"/projects/b1038/Pulmonary/cpuritz/PASC/data\""
   ]
  },
  {
   "cell_type": "code",
   "execution_count": 3,
   "metadata": {},
   "outputs": [],
   "source": [
    "# Read in anndata\n",
    "adata = sc.read_h5ad(f\"{data_dir}/01NEP/01integrated_NEP_GEO_v2/01integrated_NEP_GEO_v2.h5ad\")"
   ]
  },
  {
   "cell_type": "markdown",
   "metadata": {},
   "source": [
    "### Count number of cells per cell type"
   ]
  },
  {
   "cell_type": "code",
   "execution_count": 5,
   "metadata": {},
   "outputs": [],
   "source": [
    "# Create counts data frame\n",
    "cols = ['cell_type', 'Status', 'Study_ID']\n",
    "counts = adata.obs.groupby(cols, observed = True).count()['Library_ID'].reset_index()\n",
    "counts.rename(columns = {'Library_ID': 'n_cells'}, inplace = True)\n",
    "counts['cell_type'] = counts.cell_type.astype('category')"
   ]
  },
  {
   "cell_type": "code",
   "execution_count": 6,
   "metadata": {},
   "outputs": [],
   "source": [
    "# Compute cell type proportions\n",
    "total_counts = counts.groupby('Study_ID').sum(numeric_only = True)\n",
    "counts['total'] = 0\n",
    "for i in total_counts.itertuples(name = None):\n",
    "    counts.loc[counts.Study_ID == i[0], 'total'] = i[1]\n",
    "    counts['cell_proportion'] = counts['n_cells'] / counts.total"
   ]
  },
  {
   "cell_type": "code",
   "execution_count": 7,
   "metadata": {},
   "outputs": [],
   "source": [
    "# Add in zero values for cell types not found in each sample\n",
    "cell_types = counts.cell_type.unique()\n",
    "for s in counts.Study_ID.unique():\n",
    "    scounts = counts.loc[counts.Study_ID == s].copy()\n",
    "    ct_missing = [x for x in cell_types if not x in scounts.cell_type.tolist()]\n",
    "    x = scounts.iloc[0].copy()\n",
    "    for ct in ct_missing:\n",
    "        counts.loc[len(counts)] = [ct, x.Status, x.Study_ID, 0, x.total, 0]"
   ]
  },
  {
   "cell_type": "code",
   "execution_count": 8,
   "metadata": {},
   "outputs": [
    {
     "data": {
      "text/html": [
       "<div>\n",
       "<style scoped>\n",
       "    .dataframe tbody tr th:only-of-type {\n",
       "        vertical-align: middle;\n",
       "    }\n",
       "\n",
       "    .dataframe tbody tr th {\n",
       "        vertical-align: top;\n",
       "    }\n",
       "\n",
       "    .dataframe thead th {\n",
       "        text-align: right;\n",
       "    }\n",
       "</style>\n",
       "<table border=\"1\" class=\"dataframe\">\n",
       "  <thead>\n",
       "    <tr style=\"text-align: right;\">\n",
       "      <th></th>\n",
       "      <th>cell_type</th>\n",
       "      <th>Status</th>\n",
       "      <th>Study_ID</th>\n",
       "      <th>n_cells</th>\n",
       "      <th>total</th>\n",
       "      <th>cell_proportion</th>\n",
       "    </tr>\n",
       "  </thead>\n",
       "  <tbody>\n",
       "    <tr>\n",
       "      <th>0</th>\n",
       "      <td>Secretory ciliated cells</td>\n",
       "      <td>RPRA</td>\n",
       "      <td>RPRA02</td>\n",
       "      <td>1206</td>\n",
       "      <td>7584</td>\n",
       "      <td>0.159019</td>\n",
       "    </tr>\n",
       "    <tr>\n",
       "      <th>1</th>\n",
       "      <td>Secretory ciliated cells</td>\n",
       "      <td>RPRA</td>\n",
       "      <td>RPRA03</td>\n",
       "      <td>1</td>\n",
       "      <td>3296</td>\n",
       "      <td>0.000303</td>\n",
       "    </tr>\n",
       "    <tr>\n",
       "      <th>2</th>\n",
       "      <td>Secretory ciliated cells</td>\n",
       "      <td>RPRA</td>\n",
       "      <td>RPRA05</td>\n",
       "      <td>231</td>\n",
       "      <td>3427</td>\n",
       "      <td>0.067406</td>\n",
       "    </tr>\n",
       "    <tr>\n",
       "      <th>3</th>\n",
       "      <td>Secretory ciliated cells</td>\n",
       "      <td>RPRA</td>\n",
       "      <td>RPRA06</td>\n",
       "      <td>28</td>\n",
       "      <td>11796</td>\n",
       "      <td>0.002374</td>\n",
       "    </tr>\n",
       "    <tr>\n",
       "      <th>4</th>\n",
       "      <td>Secretory ciliated cells</td>\n",
       "      <td>RPRA</td>\n",
       "      <td>RPRA07</td>\n",
       "      <td>11</td>\n",
       "      <td>10096</td>\n",
       "      <td>0.001090</td>\n",
       "    </tr>\n",
       "  </tbody>\n",
       "</table>\n",
       "</div>"
      ],
      "text/plain": [
       "                  cell_type Status Study_ID  n_cells  total  cell_proportion\n",
       "0  Secretory ciliated cells   RPRA   RPRA02     1206   7584         0.159019\n",
       "1  Secretory ciliated cells   RPRA   RPRA03        1   3296         0.000303\n",
       "2  Secretory ciliated cells   RPRA   RPRA05      231   3427         0.067406\n",
       "3  Secretory ciliated cells   RPRA   RPRA06       28  11796         0.002374\n",
       "4  Secretory ciliated cells   RPRA   RPRA07       11  10096         0.001090"
      ]
     },
     "execution_count": 8,
     "metadata": {},
     "output_type": "execute_result"
    }
   ],
   "source": [
    "counts.head()"
   ]
  },
  {
   "cell_type": "markdown",
   "metadata": {},
   "source": [
    "### Write output"
   ]
  },
  {
   "cell_type": "code",
   "execution_count": 9,
   "metadata": {},
   "outputs": [],
   "source": [
    "counts.to_csv(f\"{data_dir}/deidentified_data/deidentified_NEP_cell_counts.csv\", index = False)"
   ]
  }
 ],
 "metadata": {
  "kernelspec": {
   "display_name": "Python (pasc-env)",
   "language": "python",
   "name": "pasc-env"
  },
  "language_info": {
   "codemirror_mode": {
    "name": "ipython",
    "version": 3
   },
   "file_extension": ".py",
   "mimetype": "text/x-python",
   "name": "python",
   "nbconvert_exporter": "python",
   "pygments_lexer": "ipython3",
   "version": "3.9.16"
  }
 },
 "nbformat": 4,
 "nbformat_minor": 2
}
